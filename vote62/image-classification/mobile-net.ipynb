{
 "cells": [
  {
   "cell_type": "code",
   "execution_count": 1,
   "id": "d8f2025a-0f93-42f5-988f-ef33f4091fee",
   "metadata": {},
   "outputs": [
    {
     "name": "stderr",
     "output_type": "stream",
     "text": [
      "2023-03-22 16:25:59.627435: I tensorflow/core/platform/cpu_feature_guard.cc:193] This TensorFlow binary is optimized with oneAPI Deep Neural Network Library (oneDNN) to use the following CPU instructions in performance-critical operations:  AVX2 FMA\n",
      "To enable them in other operations, rebuild TensorFlow with the appropriate compiler flags.\n"
     ]
    }
   ],
   "source": [
    "import matplotlib.pyplot as plt\n",
    "import numpy as np\n",
    "import os\n",
    "import tensorflow as tf\n",
    "import pandas as pd\n",
    "from sklearn.metrics import classification_report, confusion_matrix\n",
    "from sklearn.model_selection import train_test_split"
   ]
  },
  {
   "cell_type": "code",
   "execution_count": 2,
   "id": "8d9a2cc1-dccf-4b5c-a048-d14a8a0925ec",
   "metadata": {},
   "outputs": [],
   "source": [
    "cls2idx = {'Others': 0, 'VotePaper': 1, 'VoteBoard': 2, 'ElectoralUnit': 3}"
   ]
  },
  {
   "cell_type": "code",
   "execution_count": 3,
   "id": "a25966cc-1b07-46ec-b472-e52b45d16e2c",
   "metadata": {},
   "outputs": [],
   "source": [
    "def create_image_classification_dataset(image_paths, labels, image_size, batch_size):    \n",
    "    # Create a TensorFlow dataset from the image paths and labels\n",
    "    dataset = tf.data.Dataset.from_tensor_slices((image_paths, labels))\n",
    "\n",
    "    # Define a function to load and preprocess each image\n",
    "    def load_and_preprocess_image(image_path, label):\n",
    "        image = tf.io.read_file(image_path)\n",
    "        image = tf.image.decode_jpeg(image, channels=3)\n",
    "        image = tf.image.resize(image, image_size)\n",
    "        return image, tf.one_hot(label, len(cls2idx))\n",
    "    \n",
    "    # Use the map function to apply the load_and_preprocess_image function to each image in the dataset\n",
    "    dataset = dataset.map(load_and_preprocess_image, num_parallel_calls=tf.data.AUTOTUNE)\n",
    "    \n",
    "    dataset = dataset.batch(batch_size)\n",
    "\n",
    "    return dataset"
   ]
  },
  {
   "cell_type": "code",
   "execution_count": 4,
   "id": "eedb6574-3833-4d47-b141-2c253c72f518",
   "metadata": {},
   "outputs": [],
   "source": [
    "def read_csv(csv_file, image_dir,):\n",
    "    # Read the CSV file into a Pandas dataframe\n",
    "    df = pd.read_csv(csv_file)\n",
    "    \n",
    "    # Create a list of image file paths by joining the directory and filename columns in the dataframe\n",
    "    image_paths = [os.path.join(image_dir, filename.split('d=')[-1]) for filename in df['image']]\n",
    "    \n",
    "    # Create a list of labels by converting the label column in the dataframe to a list of strings\n",
    "    labels = df['choice'].fillna('Others').astype(str).apply(lambda x: cls2idx[x]).tolist()\n",
    "    return train_test_split(image_paths, labels)"
   ]
  },
  {
   "cell_type": "code",
   "execution_count": 5,
   "id": "7f453e2d-faaa-4b2d-bcf4-7a6c00193ce4",
   "metadata": {},
   "outputs": [
    {
     "name": "stderr",
     "output_type": "stream",
     "text": [
      "2023-03-22 16:26:10.002558: I tensorflow/core/platform/cpu_feature_guard.cc:193] This TensorFlow binary is optimized with oneAPI Deep Neural Network Library (oneDNN) to use the following CPU instructions in performance-critical operations:  AVX2 FMA\n",
      "To enable them in other operations, rebuild TensorFlow with the appropriate compiler flags.\n"
     ]
    }
   ],
   "source": [
    "IMG_SIZE = (224, 224)\n",
    "x_train, x_test, y_train, y_test = read_csv('label-3-class.csv', 'data',)\n",
    "train_dataset = create_image_classification_dataset(x_train, y_train, IMG_SIZE, 16)\n",
    "test_dataset = create_image_classification_dataset(x_test, y_test, IMG_SIZE, 16)"
   ]
  },
  {
   "cell_type": "code",
   "execution_count": 6,
   "id": "6a98c5e7-5457-479e-848e-f101556f817e",
   "metadata": {},
   "outputs": [],
   "source": [
    "IMG_SHAPE = IMG_SIZE + (3,)\n",
    "base_model = tf.keras.applications.MobileNetV3Large(input_shape=IMG_SHAPE,\n",
    "                                               include_top=False,\n",
    "                                               weights='imagenet')\n",
    "preprocess_input = tf.keras.applications.mobilenet_v3.preprocess_input"
   ]
  },
  {
   "cell_type": "code",
   "execution_count": 7,
   "id": "992c3f2f-8c97-41ae-aa4b-cf7c4ddd6c82",
   "metadata": {},
   "outputs": [
    {
     "name": "stdout",
     "output_type": "stream",
     "text": [
      "(16, 7, 7, 960)\n"
     ]
    }
   ],
   "source": [
    "image_batch, label_batch = next(iter(train_dataset))\n",
    "feature_batch = base_model(image_batch)\n",
    "print(feature_batch.shape)"
   ]
  },
  {
   "cell_type": "code",
   "execution_count": 8,
   "id": "7cc344cf-5116-4cf9-a8e6-29801c8badd8",
   "metadata": {},
   "outputs": [],
   "source": [
    "# base_model.trainable = False"
   ]
  },
  {
   "cell_type": "code",
   "execution_count": 9,
   "id": "edd81eb3-0c20-4702-81d1-964632821bbf",
   "metadata": {},
   "outputs": [],
   "source": [
    "def build_model():\n",
    "    inputs = tf.keras.Input(shape=IMG_SHAPE)\n",
    "    x = inputs\n",
    "    x = preprocess_input(x)\n",
    "    x = base_model(x, training=False)\n",
    "    x = tf.keras.layers.GlobalAveragePooling2D()(x)\n",
    "    x = tf.keras.layers.Dropout(0.3)(x)\n",
    "    x = tf.keras.layers.Dense(128, activation='relu')(x)\n",
    "    outputs = tf.keras.layers.Dense(len(cls2idx), activation='softmax')(x)\n",
    "    return tf.keras.Model(inputs, outputs)"
   ]
  },
  {
   "cell_type": "code",
   "execution_count": 10,
   "id": "191ff0d5-57d4-44ad-b6c3-2dcec022706e",
   "metadata": {},
   "outputs": [],
   "source": [
    "model = build_model()"
   ]
  },
  {
   "cell_type": "code",
   "execution_count": 11,
   "id": "5f9e7aef-c3f8-4a17-89cf-c589980e8738",
   "metadata": {},
   "outputs": [],
   "source": [
    "base_learning_rate = 0.0001\n",
    "model.compile(\n",
    "    optimizer=tf.keras.optimizers.Adam(learning_rate=base_learning_rate),\n",
    "    loss=tf.keras.losses.CategoricalCrossentropy(),\n",
    "    metrics=[tf.keras.metrics.Recall(), \n",
    "            'accuracy']\n",
    ")"
   ]
  },
  {
   "cell_type": "code",
   "execution_count": 12,
   "id": "3017a30c-1a4b-40da-8796-dfdec67a7add",
   "metadata": {},
   "outputs": [
    {
     "name": "stdout",
     "output_type": "stream",
     "text": [
      "Epoch 1/5\n",
      "26/26 [==============================] - 46s 1s/step - loss: 0.8968 - recall: 0.5481 - accuracy: 0.6543 - val_loss: 0.4857 - val_recall: 0.7778 - val_accuracy: 0.8370\n",
      "Epoch 2/5\n",
      "26/26 [==============================] - 37s 1s/step - loss: 0.3700 - recall: 0.8593 - accuracy: 0.8914 - val_loss: 0.3524 - val_recall: 0.8593 - val_accuracy: 0.8815\n",
      "Epoch 3/5\n",
      "26/26 [==============================] - 43s 2s/step - loss: 0.1846 - recall: 0.9383 - accuracy: 0.9531 - val_loss: 0.3698 - val_recall: 0.8370 - val_accuracy: 0.8519\n",
      "Epoch 4/5\n",
      "26/26 [==============================] - 38s 1s/step - loss: 0.1680 - recall: 0.9457 - accuracy: 0.9506 - val_loss: 0.3781 - val_recall: 0.8519 - val_accuracy: 0.8593\n",
      "Epoch 5/5\n",
      "26/26 [==============================] - 37s 1s/step - loss: 0.0891 - recall: 0.9728 - accuracy: 0.9778 - val_loss: 0.2813 - val_recall: 0.9259 - val_accuracy: 0.9259\n"
     ]
    },
    {
     "data": {
      "text/plain": [
       "<keras.callbacks.History at 0x7fddf1a456a0>"
      ]
     },
     "execution_count": 12,
     "metadata": {},
     "output_type": "execute_result"
    }
   ],
   "source": [
    "model.fit(train_dataset, validation_data=test_dataset, epochs=5)"
   ]
  },
  {
   "cell_type": "code",
   "execution_count": 13,
   "id": "6e24137d-aba9-48a6-b35f-8ca0e5be0c9e",
   "metadata": {},
   "outputs": [
    {
     "name": "stdout",
     "output_type": "stream",
     "text": [
      "9/9 [==============================] - 3s 311ms/step - loss: 0.2813 - recall: 0.9259 - accuracy: 0.9259\n"
     ]
    },
    {
     "data": {
      "text/plain": [
       "[0.2812821865081787, 0.9259259104728699, 0.9259259104728699]"
      ]
     },
     "execution_count": 13,
     "metadata": {},
     "output_type": "execute_result"
    }
   ],
   "source": [
    "model.evaluate(test_dataset,)"
   ]
  },
  {
   "cell_type": "code",
   "execution_count": 14,
   "id": "cbabdf22-c8ee-414e-a639-d675447a245f",
   "metadata": {},
   "outputs": [
    {
     "name": "stdout",
     "output_type": "stream",
     "text": [
      "9/9 [==============================] - 4s 319ms/step\n"
     ]
    }
   ],
   "source": [
    "y_pred = model.predict(test_dataset,)\n",
    "y_true = []\n",
    "for x, y in test_dataset: y_true.extend(y.numpy().argmax(1))"
   ]
  },
  {
   "cell_type": "code",
   "execution_count": 15,
   "id": "b14b410a-ad2a-44f7-93d3-b751e9521298",
   "metadata": {},
   "outputs": [
    {
     "data": {
      "text/plain": [
       "array([1, 3, 1, 1, 3, 0, 0, 3, 2, 1, 2, 3, 0, 2, 2, 0, 0, 1, 2, 3, 3, 0,\n",
       "       0, 3, 2, 3, 2, 1, 0, 2, 2, 2, 0, 0, 3, 3, 2, 3, 2, 2, 3, 3, 3, 3,\n",
       "       3, 0, 1, 2, 0, 1, 3, 2, 3, 1, 1, 3, 2, 2, 2, 2, 1, 1, 0, 2, 1, 0,\n",
       "       2, 2, 3, 2, 0, 1, 2, 3, 0, 2, 2, 1, 2, 3, 0, 1, 2, 2, 0, 1, 0, 2,\n",
       "       1, 2, 3, 2, 0, 1, 2, 2, 2, 0, 0, 1, 3, 0, 2, 2, 2, 2, 3, 2, 3, 2,\n",
       "       3, 3, 0, 3, 2, 0, 2, 1, 1, 2, 2, 2, 2, 2, 2, 2, 2, 3, 2, 1, 1, 3,\n",
       "       2, 0, 2])"
      ]
     },
     "execution_count": 15,
     "metadata": {},
     "output_type": "execute_result"
    }
   ],
   "source": [
    "y_pred.argmax(1)"
   ]
  },
  {
   "cell_type": "code",
   "execution_count": 16,
   "id": "738d9e77-77e3-4c93-87b2-7779b7edf1eb",
   "metadata": {},
   "outputs": [
    {
     "name": "stdout",
     "output_type": "stream",
     "text": [
      "              precision    recall  f1-score   support\n",
      "\n",
      "           0       0.96      0.76      0.85        33\n",
      "           1       0.92      0.92      0.92        24\n",
      "           2       0.94      1.00      0.97        51\n",
      "           3       0.87      1.00      0.93        27\n",
      "\n",
      "    accuracy                           0.93       135\n",
      "   macro avg       0.92      0.92      0.92       135\n",
      "weighted avg       0.93      0.93      0.92       135\n",
      "\n"
     ]
    }
   ],
   "source": [
    "print(classification_report(y_true, y_pred.argmax(1)))"
   ]
  },
  {
   "cell_type": "code",
   "execution_count": 17,
   "id": "90350428-fe07-4fe6-8f0a-590c8d262c6a",
   "metadata": {},
   "outputs": [
    {
     "data": {
      "text/plain": [
       "array([[25,  2,  2,  4],\n",
       "       [ 1, 22,  1,  0],\n",
       "       [ 0,  0, 51,  0],\n",
       "       [ 0,  0,  0, 27]])"
      ]
     },
     "execution_count": 17,
     "metadata": {},
     "output_type": "execute_result"
    }
   ],
   "source": [
    "confusion_matrix(y_true, y_pred.argmax(1))"
   ]
  },
  {
   "cell_type": "code",
   "execution_count": 18,
   "id": "a6f491f6-4c99-4a5f-908f-04e8659723b1",
   "metadata": {},
   "outputs": [
    {
     "name": "stderr",
     "output_type": "stream",
     "text": [
      "WARNING:absl:Found untraced functions such as _update_step_xla, _jit_compiled_convolution_op, _jit_compiled_convolution_op, _jit_compiled_convolution_op, _jit_compiled_convolution_op while saving (showing 5 of 63). These functions will not be directly callable after loading.\n"
     ]
    },
    {
     "name": "stdout",
     "output_type": "stream",
     "text": [
      "INFO:tensorflow:Assets written to: saved_models/mobile-net/assets\n"
     ]
    },
    {
     "name": "stderr",
     "output_type": "stream",
     "text": [
      "INFO:tensorflow:Assets written to: saved_models/mobile-net/assets\n"
     ]
    }
   ],
   "source": [
    "model.save('saved_models/mobile-net')"
   ]
  },
  {
   "cell_type": "code",
   "execution_count": null,
   "id": "f8f313cb-49ff-41a7-8ace-1d5e032610b7",
   "metadata": {},
   "outputs": [],
   "source": []
  }
 ],
 "metadata": {
  "kernelspec": {
   "display_name": "Python 3 (ipykernel)",
   "language": "python",
   "name": "python3"
  },
  "language_info": {
   "codemirror_mode": {
    "name": "ipython",
    "version": 3
   },
   "file_extension": ".py",
   "mimetype": "text/x-python",
   "name": "python",
   "nbconvert_exporter": "python",
   "pygments_lexer": "ipython3",
   "version": "3.9.7"
  }
 },
 "nbformat": 4,
 "nbformat_minor": 5
}
