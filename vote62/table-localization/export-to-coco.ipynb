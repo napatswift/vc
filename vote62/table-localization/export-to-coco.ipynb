{
 "cells": [
  {
   "cell_type": "code",
   "execution_count": 2,
   "id": "1d255df5",
   "metadata": {},
   "outputs": [],
   "source": [
    "dir_path = './table-det-550'\n",
    "img_dir = 'images'"
   ]
  },
  {
   "cell_type": "code",
   "execution_count": 3,
   "id": "51747743",
   "metadata": {},
   "outputs": [],
   "source": [
    "import json\n",
    "import os\n",
    "import subprocess\n",
    "import numpy as np\n",
    "from sklearn.model_selection import train_test_split"
   ]
  },
  {
   "cell_type": "code",
   "execution_count": 4,
   "id": "254c1005",
   "metadata": {},
   "outputs": [],
   "source": [
    "with open(os.path.join(dir_path, 'result.json')) as fp:\n",
    "    annot = json.load(fp)\n",
    "\n",
    "for img in annot['images']:\n",
    "    if subprocess.call(\n",
    "        ['cp', img['file_name'], os.path.join(dir_path, img_dir)]\n",
    "    ) != 0: # if success\n",
    "        print(img)\n",
    "    else:\n",
    "        img['file_name'] = os.path.join(img_dir, os.path.basename(img['file_name']))"
   ]
  },
  {
   "cell_type": "code",
   "execution_count": 5,
   "id": "6acc2b02",
   "metadata": {},
   "outputs": [
    {
     "data": {
      "text/plain": [
       "str"
      ]
     },
     "execution_count": 5,
     "metadata": {},
     "output_type": "execute_result"
    }
   ],
   "source": [
    "type(img['file_name'])"
   ]
  },
  {
   "cell_type": "code",
   "execution_count": 6,
   "id": "e4c66074",
   "metadata": {},
   "outputs": [],
   "source": [
    "X = []\n",
    "Y = []\n",
    "for img in annot['images']:\n",
    "    img_id = img['id']\n",
    "    y_list = []\n",
    "    for y in annot['annotations']:\n",
    "        if y['image_id'] == img_id:\n",
    "            y_list.append(y)\n",
    "    Y.append(len(y_list))\n",
    "    X.append(img)"
   ]
  },
  {
   "cell_type": "code",
   "execution_count": 7,
   "id": "7ee3872d",
   "metadata": {},
   "outputs": [],
   "source": [
    "x_train, x_test, y_train, y_test = train_test_split(X, Y, test_size=.15)"
   ]
  },
  {
   "cell_type": "code",
   "execution_count": 8,
   "id": "b13a1655",
   "metadata": {},
   "outputs": [
    {
     "data": {
      "text/plain": [
       "((array([1, 2, 3]), array([83,  3,  2])),\n",
       " (array([1, 2, 3]), array([470,  17,   6])))"
      ]
     },
     "execution_count": 8,
     "metadata": {},
     "output_type": "execute_result"
    }
   ],
   "source": [
    "np.unique(y_test, return_counts=True), np.unique(y_train, return_counts=True)"
   ]
  },
  {
   "cell_type": "code",
   "execution_count": 10,
   "id": "a5d1772c",
   "metadata": {},
   "outputs": [],
   "source": [
    "def export(split_set, split_name):\n",
    "    dataset = {'images': list(), 'annotations': list(), 'categories': annot['categories']}\n",
    "    for image in split_set:\n",
    "        for annotation in annot['annotations']:\n",
    "            if annotation['image_id'] == image['id']:\n",
    "                dataset['annotations'].append(annotation)\n",
    "        dataset['images'].append(image)\n",
    "    with open(os.path.join(dir_path, f'{split_name}_coco.json'), 'w') as fp:\n",
    "        json.dump(dataset, fp, indent=1)"
   ]
  },
  {
   "cell_type": "code",
   "execution_count": null,
   "id": "838cfbe9",
   "metadata": {},
   "outputs": [],
   "source": [
    "export(x_train, 'train')\n",
    "export(x_test, 'test')"
   ]
  }
 ],
 "metadata": {
  "kernelspec": {
   "display_name": "Python 3 (ipykernel)",
   "language": "python",
   "name": "python3"
  },
  "language_info": {
   "codemirror_mode": {
    "name": "ipython",
    "version": 3
   },
   "file_extension": ".py",
   "mimetype": "text/x-python",
   "name": "python",
   "nbconvert_exporter": "python",
   "pygments_lexer": "ipython3",
   "version": "3.9.7"
  }
 },
 "nbformat": 4,
 "nbformat_minor": 5
}
