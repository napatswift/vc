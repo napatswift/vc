{
  "cells": [
    {
      "cell_type": "markdown",
      "metadata": {
        "id": "view-in-github",
        "colab_type": "text"
      },
      "source": [
        "<a href=\"https://colab.research.google.com/github/napatswift/vc/blob/main/vote62/table-localization/mmdet-train.ipynb\" target=\"_parent\"><img src=\"https://colab.research.google.com/assets/colab-badge.svg\" alt=\"Open In Colab\"/></a>"
      ]
    },
    {
      "cell_type": "code",
      "execution_count": null,
      "metadata": {
        "id": "lpYDQMypQlkB"
      },
      "outputs": [],
      "source": [
        "!pip3 install openmim\n",
        "!mim install mmcv-full\n",
        "!pip install gradio"
      ]
    },
    {
      "cell_type": "code",
      "execution_count": null,
      "metadata": {
        "id": "Fmh1e7hLRVNZ"
      },
      "outputs": [],
      "source": [
        "!git clone https://github.com/open-mmlab/mmdetection.git\n",
        "%cd mmdetection\n",
        "!pip install -e ."
      ]
    },
    {
      "cell_type": "code",
      "execution_count": null,
      "metadata": {
        "id": "t8wWiBuISJH-"
      },
      "outputs": [],
      "source": [
        "import mmdet\n",
        "print(mmdet.__version__)\n",
        "# Example output: 2.23.0"
      ]
    },
    {
      "cell_type": "code",
      "execution_count": null,
      "metadata": {
        "id": "kgwvcqEvRFmk"
      },
      "outputs": [],
      "source": [
        "!mim download mmdet \\\n",
        "  --config yolov3_mobilenetv2_320_300e_coco \\\n",
        "  --dest ."
      ]
    },
    {
      "cell_type": "code",
      "execution_count": null,
      "metadata": {
        "id": "SqATZ3sPiwIg"
      },
      "outputs": [],
      "source": [
        "!wget https://download.openmmlab.com/mmdetection/v2.0/mask_rcnn/mask_rcnn_r50_caffe_fpn_mstrain-poly_3x_coco/mask_rcnn_r50_caffe_fpn_mstrain-poly_3x_coco_bbox_mAP-0.408__segm_mAP-0.37_20200504_163245-42aa3d00.pth -P checkpoints/"
      ]
    },
    {
      "cell_type": "code",
      "execution_count": null,
      "metadata": {
        "id": "kuIFcZLXiAbd"
      },
      "outputs": [],
      "source": [
        "!wget https://github.com/napatswift/vc/releases/download/table-det-v-610i/table-det-610.tar.gz"
      ]
    },
    {
      "cell_type": "code",
      "execution_count": null,
      "metadata": {
        "id": "DTAvjNRpiFMn"
      },
      "outputs": [],
      "source": [
        "!tar zxf table-det-610.tar.gz"
      ]
    },
    {
      "cell_type": "code",
      "execution_count": null,
      "metadata": {
        "id": "dfk_XE_lfTNT"
      },
      "outputs": [],
      "source": [
        "with open('configs/vote-config.py', 'w') as fp:\n",
        "  fp.write(\"\"\"_base_ = 'mask_rcnn/mask_rcnn_r50_caffe_fpn_mstrain-poly_1x_coco.py'\n",
        "\n",
        "# We also need to change the num_classes in head to match the dataset's annotation\n",
        "model = dict(\n",
        "    roi_head=dict(\n",
        "        bbox_head=dict(num_classes=1),\n",
        "        mask_head=dict(num_classes=1)))\n",
        "\n",
        "# Modify dataset related settings\n",
        "dataset_type = 'COCODataset'\n",
        "classes = ('Table',)\n",
        "data = dict(\n",
        "    train=dict(\n",
        "        classes=classes,\n",
        "        img_prefix='data/table-det-610/',\n",
        "        ann_file='data/table-det-610/train_coco.json'),\n",
        "    val=dict(\n",
        "        classes=classes,\n",
        "        img_prefix='data/table-det-610/',\n",
        "        ann_file='data/table-det-610/test_coco.json'),\n",
        "    test=dict(\n",
        "        classes=classes,\n",
        "        img_prefix='data/table-det-610/',\n",
        "        ann_file='data/table-det-610/test_coco.json'))\n",
        "\n",
        "train_pipeline = [\n",
        "    dict(type='LoadImageFromFile'),\n",
        "    dict(type='LoadAnnotations', with_bbox=True, with_mask=True),\n",
        "    dict(type='Resize', img_scale=(1333, 800), keep_ratio=True),\n",
        "    dict(type='Translate',),\n",
        "    dict(type='Rotate',level=40,),\n",
        "    dict(type='Shear',prob=0.6,),\n",
        "    dict(type='ColorTransform',prob=0.7),\n",
        "    dict(type='BrightnessTransform',prob=0.7),\n",
        "    dict(type='Normalize', **dict(\n",
        "      mean=[103.530, 116.280, 123.675], std=[1.0, 1.0, 1.0], to_rgb=False)),\n",
        "    dict(type='Pad', size_divisor=32),\n",
        "    dict(type='DefaultFormatBundle'),\n",
        "    dict(type='Collect', keys=['img', 'gt_bboxes', 'gt_labels', 'gt_masks']),\n",
        "]\n",
        "optimizer = dict(lr=1e-3)\n",
        "# We can use the pre-trained Mask RCNN model to obtain higher performance\n",
        "load_from = 'checkpoints/mask_rcnn_r50_caffe_fpn_mstrain-poly_3x_coco_bbox_mAP-0.408__segm_mAP-0.37_20200504_163245-42aa3d00.pth'\n",
        "\"\"\")"
      ]
    },
    {
      "cell_type": "code",
      "execution_count": null,
      "metadata": {
        "id": "YYWNBnN7T77y"
      },
      "outputs": [],
      "source": [
        "!python \\\n",
        "  tools/train.py \\\n",
        "  configs/vote-config.py"
      ]
    },
    {
      "cell_type": "code",
      "execution_count": null,
      "metadata": {
        "id": "CxbTIME3gAMa"
      },
      "outputs": [],
      "source": [
        "!python \\\n",
        "  tools/test.py\\\n",
        "  configs/vote-config.py work_dirs/vote-config/latest.pth --eval bbox segm"
      ]
    },
    {
      "cell_type": "code",
      "source": [
        "from mmdet.apis import init_detector, inference_detector\n",
        "import mmcv"
      ],
      "metadata": {
        "id": "-hzzxa8Zs3lt"
      },
      "execution_count": null,
      "outputs": []
    },
    {
      "cell_type": "code",
      "source": [
        "config_file = '/content/mmdetection/work_dirs/vote-config/vote-config.py'\n",
        "checkpoint_file = '/content/mmdetection/work_dirs/vote-config/latest.pth'\n",
        "model = init_detector(config_file, checkpoint_file, device='cuda:0')"
      ],
      "metadata": {
        "id": "z9r_eLzKtacM"
      },
      "execution_count": null,
      "outputs": []
    },
    {
      "cell_type": "code",
      "source": [
        "!tar -zcvf table-detector.tar.gz work_dirs/vote-config/vote-config.py work_dirs/vote-config/latest.pth"
      ],
      "metadata": {
        "id": "wJBS0knjWvTX"
      },
      "execution_count": null,
      "outputs": []
    },
    {
      "cell_type": "code",
      "source": [
        "import gradio as gr\n",
        "def run(image):\n",
        "  result = inference_detector(model, image)\n",
        "  return model.show_result(image, result,)\n",
        "\n",
        "gr.Interface(fn=run, inputs=\"image\", outputs=\"image\").launch()\n"
      ],
      "metadata": {
        "id": "yvQhfjmttzWF"
      },
      "execution_count": null,
      "outputs": []
    },
    {
      "cell_type": "code",
      "source": [],
      "metadata": {
        "id": "rU7D9grvu2Yj"
      },
      "execution_count": null,
      "outputs": []
    }
  ],
  "metadata": {
    "accelerator": "GPU",
    "colab": {
      "provenance": [],
      "authorship_tag": "ABX9TyNs+8+n1b5cSLOv6EpwYDE1",
      "include_colab_link": true
    },
    "gpuClass": "standard",
    "kernelspec": {
      "display_name": "Python 3",
      "name": "python3"
    },
    "language_info": {
      "name": "python"
    }
  },
  "nbformat": 4,
  "nbformat_minor": 0
}