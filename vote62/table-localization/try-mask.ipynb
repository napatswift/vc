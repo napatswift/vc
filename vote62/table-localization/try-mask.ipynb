{
 "cells": [
  {
   "cell_type": "markdown",
   "id": "85d87679",
   "metadata": {},
   "source": [
    "# Un distort\n",
    "\n",
    "this notebook contains code that try to warp the roi mask to rectangle"
   ]
  },
  {
   "cell_type": "code",
   "execution_count": 2,
   "id": "56914946",
   "metadata": {},
   "outputs": [],
   "source": [
    "import os\n",
    "import numpy as np\n",
    "import cv2\n",
    "import re\n",
    "import matplotlib.pyplot as plt"
   ]
  },
  {
   "cell_type": "code",
   "execution_count": 3,
   "id": "ecea9fd8",
   "metadata": {},
   "outputs": [],
   "source": [
    "def get_data():\n",
    "    image_paths = [os.path.join('data/table-with-mask-1k/', f) for f in os.listdir('data/table-with-mask-1k/')]\n",
    "    image_paths.sort()\n",
    "    dataset = dict()\n",
    "    for path in image_paths:\n",
    "        img_id = re.sub('.*/(.*)(\\.mask\\.png|\\.jpeg)', r'\\1', path)\n",
    "        img_data = dataset.get(img_id, dict())\n",
    "        if path.endswith('.mask.png'):\n",
    "            img_data['roi'] = path\n",
    "        else:\n",
    "            img_data['img'] = path\n",
    "        dataset[img_id] = img_data\n",
    "    return list(dataset.values())"
   ]
  },
  {
   "cell_type": "code",
   "execution_count": 4,
   "id": "29b0c8b7",
   "metadata": {},
   "outputs": [],
   "source": [
    "dataset = get_data()"
   ]
  },
  {
   "cell_type": "code",
   "execution_count": 16,
   "id": "08514558",
   "metadata": {},
   "outputs": [],
   "source": [
    "table_cropped_dir='data/table-cropped'\n",
    "os.makedirs(table_cropped_dir, exist_ok=True)"
   ]
  },
  {
   "cell_type": "code",
   "execution_count": 67,
   "id": "3c44d107",
   "metadata": {},
   "outputs": [],
   "source": [
    "def get_corners(points):\n",
    "    \"\"\"\n",
    "    Returns the top-left, top-right, bottom-right, and bottom-left corners\n",
    "    of a rectangle defined by a list of four points in the form of tuples.\n",
    "    \"\"\"\n",
    "    # Sort points by x-coordinate\n",
    "    sorted_points = sorted(points, key=lambda p: p[0])\n",
    "    \n",
    "    # Split sorted points into left and right halves\n",
    "    left_points = sorted_points[:2]\n",
    "    right_points = sorted_points[2:]\n",
    "    \n",
    "    # Sort left and right points by y-coordinate\n",
    "    left_points = sorted(left_points, key=lambda p: p[1])\n",
    "    right_points = sorted(right_points, key=lambda p: p[1], reverse=True)\n",
    "    \n",
    "    # Return corners in order: top-left, top-right, bottom-right, bottom-left\n",
    "    return (left_points[0], right_points[0], right_points[1], left_points[1])"
   ]
  },
  {
   "cell_type": "code",
   "execution_count": 89,
   "id": "5fafe267",
   "metadata": {
    "scrolled": false
   },
   "outputs": [
    {
     "data": {
      "text/plain": [
       "(None, 978)"
      ]
     },
     "execution_count": 89,
     "metadata": {},
     "output_type": "execute_result"
    }
   ],
   "source": [
    "def warp_perspective(image, pt_A, pt_B, pt_C, pt_D):\n",
    "    # Here, I have used L2 norm. You can use L1 also.\n",
    "    width_AD = np.sqrt(((pt_A[0] - pt_D[0]) ** 2) + ((pt_A[1] - pt_D[1]) ** 2))\n",
    "    width_BC = np.sqrt(((pt_B[0] - pt_C[0]) ** 2) + ((pt_B[1] - pt_C[1]) ** 2))\n",
    "    maxWidth = max(int(width_AD), int(width_BC))\n",
    "\n",
    "\n",
    "    height_AB = np.sqrt(((pt_A[0] - pt_B[0]) ** 2) + ((pt_A[1] - pt_B[1]) ** 2))\n",
    "    height_CD = np.sqrt(((pt_C[0] - pt_D[0]) ** 2) + ((pt_C[1] - pt_D[1]) ** 2))\n",
    "    maxHeight = max(int(height_AB), int(height_CD))\n",
    "    \n",
    "    input_pts = np.float32([pt_A, pt_B, pt_C, pt_D])\n",
    "    output_pts = np.float32([[0, 0],\n",
    "                            [0, maxHeight - 1],\n",
    "                            [maxWidth - 1, maxHeight - 1],\n",
    "                            [maxWidth - 1, 0]])\n",
    "    # Compute the perspective transform M\n",
    "    M = cv2.getPerspectiveTransform(input_pts,output_pts)\n",
    "    return cv2.warpPerspective(image,M,(maxWidth, maxHeight),flags=cv2.INTER_LINEAR)\n",
    "\n",
    "def _(image_data):\n",
    "    img = cv2.imread(image_data['img'])\n",
    "    roi_img = cv2.imread(image_data['roi'])\n",
    "    roi_img = cv2.cvtColor(roi_img, cv2.COLOR_RGB2GRAY)\n",
    "    contours, hierarchy = cv2.findContours(roi_img, cv2.RETR_TREE, cv2.CHAIN_APPROX_SIMPLE)\n",
    "    img_rect = img.copy()\n",
    "    img_hull = img.copy()\n",
    "    img_point = img.copy()\n",
    "    table_images = []\n",
    "    for cnt in contours:\n",
    "        rect = cv2.minAreaRect(cnt)\n",
    "        box = cv2.boxPoints(rect)\n",
    "        box = np.int0(box)\n",
    "        img_rect= cv2.drawContours(img_rect,[box],0,(0,0,255),2)\n",
    "        hull = cv2. convexHull(cnt, returnPoints=False)\n",
    "        defects = cv2.convexityDefects(cnt, hull)\n",
    "        \n",
    "        for i in range(defects.shape[0]):\n",
    "            s,e,f,d = defects[i,0]\n",
    "            start = tuple(cnt[s][0])\n",
    "            end = tuple(cnt[e][0])\n",
    "            far = tuple(cnt[f][0])\n",
    "            cv2.line(img_hull, start, end, [0,255,0], 10)\n",
    "            # cv2.circle(img_hull, far, 5, [0,0,255], -1)\n",
    "        epsilon = cv2.arcLength(cnt,True)\n",
    "        approx = cv2.approxPolyDP(cnt, 0.02*epsilon, True)\n",
    "        points = np.squeeze(approx)\n",
    "        tl, br, bl, tr = get_corners(points.tolist())\n",
    "        if len(points) == 4:\n",
    "            table_images.append(warp_perspective(img, tl, tr, br, bl))\n",
    "        for p in [tl, tr, br, bl]:\n",
    "            img_point = cv2.circle(img_point, p, 10, [0,0,255], -1)\n",
    "    h,w,d = img.shape\n",
    "#     fig, axes = plt.subplots(3, 2, figsize=(int(h/150), int(w/150)))\n",
    "#     axes[0][0].imshow(roi_img,   cmap='gray')\n",
    "#     axes[0][1].imshow(img_rect,  cmap='brg')\n",
    "#     axes[1][0].imshow(img_hull,  cmap='brg')\n",
    "#     axes[1][1].imshow(img_point, cmap='brg')\n",
    "\n",
    "    img_name = os.path.basename(image_data['img']).split('.')[0]\n",
    "    for i in range(len(table_images)):\n",
    "#         axes[2][i].imshow(table_images[i])\n",
    "        cv2.imwrite(os.path.join(table_cropped_dir, f'{img_name}_{i}.jpeg'), table_images[i])\n",
    "\n",
    "d_i = np.random.randint(0, len(dataset))\n",
    "_(dataset[d_i]),d_i"
   ]
  },
  {
   "cell_type": "code",
   "execution_count": 90,
   "id": "772f8d4a",
   "metadata": {},
   "outputs": [
    {
     "name": "stdout",
     "output_type": "stream",
     "text": [
      "{'img': 'data/table-with-mask-1k/0-1-091417c4253e22a2209bea9a55117dc90443cf3f.jpeg'}\n",
      "{'img': 'data/table-with-mask-1k/0-1-782978bab7cad703b568298d9295fc343abde629.jpg'}\n",
      "{'img': 'data/table-with-mask-1k/0-1-a6873deb309cddc2c9e51a73beeabd7d2b169eb4.jpeg'}\n",
      "{'img': 'data/table-with-mask-1k/0-1-aa78f473ce4532597d82ef5eb183ecf5a3ee7645.jpg'}\n",
      "{'img': 'data/table-with-mask-1k/0-1-b05807504dfe87ca46cc44e7a7fa807dbf8fb22b.jpeg'}\n",
      "{'img': 'data/table-with-mask-1k/0-1-b326581535c23802a2fa862275ac19a387d6701d.jpeg'}\n",
      "{'img': 'data/table-with-mask-1k/0-1-b371b6aae1da532f8bf65386596350a8d183c857.jpeg'}\n",
      "{'img': 'data/table-with-mask-1k/0-1-b76651fee87ec8641da1907d38dac3abec62b9f6.jpeg'}\n",
      "{'img': 'data/table-with-mask-1k/0-1-b8469d2b9d4c3ee1cd7e9ea9e13a0e10cd0df139.jpeg'}\n",
      "{'img': 'data/table-with-mask-1k/0-1-cc83e499f51ee7f67cc3fc36c35909aacd4b7829.jpeg'}\n",
      "{'img': 'data/table-with-mask-1k/0-1-cfd20e9e6fb98a236a80924ec18d655702016004.jpeg'}\n",
      "{'img': 'data/table-with-mask-1k/0-1-d9f7bbc9c4b2c24326efa40098715cac9032cd49.jpeg'}\n",
      "{'img': 'data/table-with-mask-1k/0-1-dc8166515155f091a90c3c299544b2e2ebe55d4a.jpeg'}\n",
      "{'img': 'data/table-with-mask-1k/0-1-e00f4dbf97d7b3ede2e865df960aea5220673397.jpeg'}\n"
     ]
    }
   ],
   "source": [
    "for i in dataset:\n",
    "    try:\n",
    "        _(i)\n",
    "    except:\n",
    "        print(i)"
   ]
  },
  {
   "cell_type": "code",
   "execution_count": 15,
   "id": "e96533a1",
   "metadata": {},
   "outputs": [
    {
     "data": {
      "text/plain": [
       "[array([[[147, 143, 124],\n",
       "         [147, 143, 124],\n",
       "         [147, 143, 124],\n",
       "         ...,\n",
       "         [138, 138, 132],\n",
       "         [137, 137, 131],\n",
       "         [133, 135, 129]],\n",
       " \n",
       "        [[147, 143, 124],\n",
       "         [147, 143, 124],\n",
       "         [147, 143, 124],\n",
       "         ...,\n",
       "         [133, 135, 129],\n",
       "         [132, 134, 128],\n",
       "         [131, 133, 127]],\n",
       " \n",
       "        [[147, 143, 124],\n",
       "         [145, 141, 122],\n",
       "         [145, 141, 122],\n",
       "         ...,\n",
       "         [132, 134, 128],\n",
       "         [131, 133, 127],\n",
       "         [131, 133, 127]],\n",
       " \n",
       "        ...,\n",
       " \n",
       "        [[140, 138, 128],\n",
       "         [140, 138, 128],\n",
       "         [136, 134, 124],\n",
       "         ...,\n",
       "         [120, 123, 121],\n",
       "         [121, 124, 122],\n",
       "         [122, 125, 123]],\n",
       " \n",
       "        [[141, 139, 129],\n",
       "         [143, 137, 130],\n",
       "         [143, 137, 130],\n",
       "         ...,\n",
       "         [121, 124, 122],\n",
       "         [119, 122, 120],\n",
       "         [123, 126, 124]],\n",
       " \n",
       "        [[141, 139, 129],\n",
       "         [142, 136, 129],\n",
       "         [144, 138, 131],\n",
       "         ...,\n",
       "         [122, 125, 123],\n",
       "         [119, 122, 120],\n",
       "         [122, 125, 123]]], dtype=uint8)]"
      ]
     },
     "execution_count": 15,
     "metadata": {},
     "output_type": "execute_result"
    },
    {
     "data": {
      "image/png": "[encoded data removed]",
      "text/plain": [
       "<Figure size 432x360 with 6 Axes>"
      ]
     },
     "metadata": {
      "needs_background": "light"
     },
     "output_type": "display_data"
    }
   ],
   "source": [
    "_(np.random.choice(dataset))"
   ]
  },
  {
   "cell_type": "code",
   "execution_count": null,
   "id": "ffdd0d46",
   "metadata": {},
   "outputs": [],
   "source": []
  },
  {
   "cell_type": "code",
   "execution_count": null,
   "id": "dd552c1a",
   "metadata": {},
   "outputs": [],
   "source": []
  },
  {
   "cell_type": "code",
   "execution_count": null,
   "id": "a0da7718",
   "metadata": {},
   "outputs": [],
   "source": []
  },
  {
   "cell_type": "code",
   "execution_count": null,
   "id": "9482698f",
   "metadata": {},
   "outputs": [],
   "source": []
  },
  {
   "cell_type": "code",
   "execution_count": null,
   "id": "83b9b148",
   "metadata": {},
   "outputs": [],
   "source": []
  },
  {
   "cell_type": "code",
   "execution_count": null,
   "id": "7da83b05",
   "metadata": {},
   "outputs": [],
   "source": []
  },
  {
   "cell_type": "code",
   "execution_count": null,
   "id": "0760c768",
   "metadata": {},
   "outputs": [],
   "source": []
  },
  {
   "cell_type": "code",
   "execution_count": null,
   "id": "516be1ee",
   "metadata": {},
   "outputs": [],
   "source": []
  },
  {
   "cell_type": "code",
   "execution_count": null,
   "id": "71ddcf31",
   "metadata": {},
   "outputs": [],
   "source": []
  },
  {
   "cell_type": "code",
   "execution_count": null,
   "id": "f9dcbf6a",
   "metadata": {},
   "outputs": [],
   "source": []
  },
  {
   "cell_type": "code",
   "execution_count": null,
   "id": "b9a92f48",
   "metadata": {},
   "outputs": [],
   "source": []
  },
  {
   "cell_type": "code",
   "execution_count": null,
   "id": "07c2c181",
   "metadata": {},
   "outputs": [],
   "source": []
  },
  {
   "cell_type": "code",
   "execution_count": null,
   "id": "364dd4e0",
   "metadata": {},
   "outputs": [],
   "source": []
  },
  {
   "cell_type": "code",
   "execution_count": null,
   "id": "cdf149c1",
   "metadata": {},
   "outputs": [],
   "source": []
  }
 ],
 "metadata": {
  "kernelspec": {
   "display_name": "Python 3 (ipykernel)",
   "language": "python",
   "name": "python3"
  },
  "language_info": {
   "codemirror_mode": {
    "name": "ipython",
    "version": 3
   },
   "file_extension": ".py",
   "mimetype": "text/x-python",
   "name": "python",
   "nbconvert_exporter": "python",
   "pygments_lexer": "ipython3",
   "version": "3.9.7"
  }
 },
 "nbformat": 4,
 "nbformat_minor": 5
}
